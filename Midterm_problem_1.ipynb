{
  "nbformat": 4,
  "nbformat_minor": 0,
  "metadata": {
    "colab": {
      "name": "Midterm_problem-1.ipynb",
      "provenance": [],
      "collapsed_sections": []
    },
    "kernelspec": {
      "name": "python3",
      "display_name": "Python 3"
    }
  },
  "cells": [
    {
      "cell_type": "code",
      "metadata": {
        "id": "vE-FJHefk-cf"
      },
      "source": [
        "# Assign input x and observed output b\n",
        "import numpy as np\n",
        "import matplotlib.pyplot as plt\n",
        "import math\n",
        "import random\n",
        "x=np.arange(-.5,.6,.1)\n",
        "pii=math.pi\n",
        "#if initial data was noiseless\n",
        "b_clean=np.sin(2*pii*x)\n",
        "#now there are noisy initial data\n",
        "b0=np.sin(2*pii*x)-.1\n",
        "randomList = []\n",
        "# Set a length of the list to 10\n",
        "for i in range(0, 11):\n",
        "    # any random numbers from 0 to 1000\n",
        "    randomList.append((random.randint(-50, 100))/100)\n",
        "randn=np.array(randomList)\n",
        "\n",
        "#generate b\n",
        "b=b0+.2*randn"
      ],
      "execution_count": 19,
      "outputs": []
    },
    {
      "cell_type": "code",
      "metadata": {
        "id": "Dm16riMTlh5k",
        "outputId": "6f4b3110-c837-4798-d481-653ede792836",
        "colab": {
          "base_uri": "https://localhost:8080/",
          "height": 302
        }
      },
      "source": [
        "#plot (x,b0)\n",
        "#plot\n",
        "plt.plot(x, b_clean, linestyle='--',marker='o',color='black',label='Clean Observation',linewidth=1.5) \n",
        "plt.plot(x, b, linestyle='--',marker='o',color='blue',label='Observation with Noise',linewidth=1.5) \n",
        "#plt.plot(x, yt, linestyle='--',marker='o',color='black',label='Observation with Noise',linewidth=1.5)  \n",
        "plt.xlabel('x',fontsize='15')\n",
        "plt.ylabel('y',fontsize='15')\n",
        "plt.legend()"
      ],
      "execution_count": 20,
      "outputs": [
        {
          "output_type": "execute_result",
          "data": {
            "text/plain": [
              "<matplotlib.legend.Legend at 0x7fa57d420ef0>"
            ]
          },
          "metadata": {
            "tags": []
          },
          "execution_count": 20
        },
        {
          "output_type": "display_data",
          "data": {
            "image/png": "[encoded data removed]",
            "text/plain": [
              "<Figure size 432x288 with 1 Axes>"
            ]
          },
          "metadata": {
            "tags": [],
            "needs_background": "light"
          }
        }
      ]
    },
    {
      "cell_type": "code",
      "metadata": {
        "id": "mEufQv3xPlSx"
      },
      "source": [
        "#create the M order polynomial matrix X\n",
        "def calc_matrix(x,m):\n",
        "  n=len(x)\n",
        "  #m=3\n",
        "  A=np.zeros((n,m+1))\n",
        "  for i in range(m+1):\n",
        "      A[:,i]=x**i\n",
        "      #A[:,1]=x\n",
        "      #A[:,2]=np.square(x)\n",
        "      #A[:,3]=x**3\n",
        "  \n",
        "  return A"
      ],
      "execution_count": 4,
      "outputs": []
    },
    {
      "cell_type": "code",
      "metadata": {
        "id": "tFa0zngIQlGl"
      },
      "source": [
        "#calculate the matrix A for M=9\n",
        "A=calc_matrix(x,9)"
      ],
      "execution_count": 5,
      "outputs": []
    },
    {
      "cell_type": "code",
      "metadata": {
        "id": "dfWjHEu5Quor"
      },
      "source": [
        "#calculate weight vector for regularized linear regression\n",
        "def calc_wreg(x_train,y_train,l):\n",
        "  a1=np.dot(np.transpose(x_train),x_train)\n",
        "  a1_inv=np.linalg.inv(a1)\n",
        "  a2=np.dot(a1_inv,np.transpose(x_train))\n",
        "  I=np.identity(len(a2))\n",
        "  I_l=np.multiply(I,l)\n",
        "  a2=a1+I_l\n",
        "  a2_inv=np.linalg.inv(a2)\n",
        "  a3=np.dot(a2_inv,np.transpose(x_train))\n",
        "  wreg=np.dot(a3,y_train)\n",
        "  yt=np.dot(x_train,wreg)\n",
        "  return wreg\n"
      ],
      "execution_count": 6,
      "outputs": []
    },
    {
      "cell_type": "code",
      "metadata": {
        "id": "kCXskSbY3BZa"
      },
      "source": [
        "#calculate prediction on new data\n",
        "def predict(x,w):\n",
        "  yt=np.dot(x,w)\n",
        "  return yt\n"
      ],
      "execution_count": 10,
      "outputs": []
    },
    {
      "cell_type": "code",
      "metadata": {
        "id": "PQxBQ_DkzLSH"
      },
      "source": [
        "#calculate the error \n",
        "def error_LF(X, y, W):\n",
        "    pred=predict(X,W)\n",
        "    e=(pred-y)**2\n",
        "    error=np.sqrt(e)\n",
        "    return error"
      ],
      "execution_count": 11,
      "outputs": []
    },
    {
      "cell_type": "code",
      "metadata": {
        "id": "eC9NVnS6zUme"
      },
      "source": [
        "#calculate the validation error \n",
        "def calc_Eval(X_val,Y_val,w):\n",
        "  Eval =error_LF(X_val, Y_val, w)\n",
        "  #Eval*100\n",
        "  return Eval"
      ],
      "execution_count": 12,
      "outputs": []
    },
    {
      "cell_type": "code",
      "metadata": {
        "id": "I4s78k1abHiF",
        "outputId": "1fd4586a-6756-4132-9e08-6bf9446fa568",
        "colab": {
          "base_uri": "https://localhost:8080/",
          "height": 35
        }
      },
      "source": [
        "b.shape"
      ],
      "execution_count": null,
      "outputs": [
        {
          "output_type": "execute_result",
          "data": {
            "text/plain": [
              "(11,)"
            ]
          },
          "metadata": {
            "tags": []
          },
          "execution_count": 34
        }
      ]
    },
    {
      "cell_type": "code",
      "metadata": {
        "id": "s7ejmNTAZXh5"
      },
      "source": [
        "l=[10e-12,10e-9,10e-7,10e-5,10e-3,10e-1,.5,1]  #lambda"
      ],
      "execution_count": 13,
      "outputs": []
    },
    {
      "cell_type": "code",
      "metadata": {
        "id": "fuJ3TyaoZhu-"
      },
      "source": [
        "#calculate validation error using leave one out method\n",
        "def calc_val_error(X,Y,l):\n",
        "  X_Val=np.zeros(X.shape)\n",
        "  Y_Val=np.zeros(Y.shape)\n",
        "  Eval=np.zeros(11)\n",
        "  \n",
        "  for i in range(11):\n",
        "    X_Val[i,:]=X[i,:]\n",
        "    X_train=np.delete(X,[i],axis=0)\n",
        "    Y_Val[i]=Y[i]\n",
        "    Y_train=np.delete(Y,[i],axis=0)\n",
        "    #print(Y_train.shape)\n",
        "    wr=calc_wreg(X_train,Y_train,l)\n",
        "    Eval[i]=calc_Eval(X_Val[i,:],Y_Val[i],wr)\n",
        "  \n",
        "  Eval_final=np.average(Eval)\n",
        "  return Eval_final\n",
        "\n"
      ],
      "execution_count": 15,
      "outputs": []
    },
    {
      "cell_type": "code",
      "metadata": {
        "id": "iLjQpgLUeFT1",
        "outputId": "06a7553f-bccf-420c-a149-030d9e96feab",
        "colab": {
          "base_uri": "https://localhost:8080/",
          "height": 35
        }
      },
      "source": [
        "E_validation=np.zeros(len(l))\n",
        "#Eout=np.zeros(len(l))\n",
        "for j in range(len(l)):\n",
        "  #wr[i,:]=calc_wreg(X_train,Y_train,l[i])\n",
        "  #Eval[i]=calc_Eval(X_train,Y_train,wr[i])\n",
        "  E_validation[j]=calc_val_error(A,b,l[j])\n",
        "j=np.argmin(E_validation)\n",
        "lbest=l[j]\n",
        "print('The best regularization parameter:',lbest)"
      ],
      "execution_count": 21,
      "outputs": [
        {
          "output_type": "stream",
          "text": [
            "The best regularization parameter: 1e-06\n"
          ],
          "name": "stdout"
        }
      ]
    },
    {
      "cell_type": "code",
      "metadata": {
        "id": "vi0_ALn-Jhs-",
        "outputId": "c8d3b3d2-0d63-404f-dcf3-6abf6c3a0e5e",
        "colab": {
          "base_uri": "https://localhost:8080/",
          "height": 54
        }
      },
      "source": [
        "E_validation"
      ],
      "execution_count": 17,
      "outputs": [
        {
          "output_type": "execute_result",
          "data": {
            "text/plain": [
              "array([1.43907459, 0.66990311, 0.20872165, 0.20579205, 0.4424969 ,\n",
              "       0.55095549, 0.54354624, 0.55095549])"
            ]
          },
          "metadata": {
            "tags": []
          },
          "execution_count": 17
        }
      ]
    },
    {
      "cell_type": "code",
      "metadata": {
        "id": "xkFW6vbA8l7X",
        "outputId": "97af45ab-5668-42d8-8fee-e2ecae2b8448",
        "colab": {
          "base_uri": "https://localhost:8080/",
          "height": 306
        }
      },
      "source": [
        "#plot (x,b0)\n",
        "#plot\n",
        "plt.plot(np.log(l), E_validation, linestyle='--',marker='o',color='red',label='Eval',linewidth=1.5) \n",
        "#plt.plot(l, Eout,linestyle='--',marker='o',color='red',label='Eout',linewidth=1.5) \n",
        "#plt.plot(x, yt, linestyle='--',marker='o',color='black',label='Observation with Noise',linewidth=1.5)  \n",
        "plt.xlabel('log10($\\lambda$)',fontsize='15')\n",
        "plt.ylabel('Validation Error',fontsize='15')\n",
        "plt.legend()"
      ],
      "execution_count": 24,
      "outputs": [
        {
          "output_type": "execute_result",
          "data": {
            "text/plain": [
              "<matplotlib.legend.Legend at 0x7fa57d4be3c8>"
            ]
          },
          "metadata": {
            "tags": []
          },
          "execution_count": 24
        },
        {
          "output_type": "display_data",
          "data": {
            "image/png": "[encoded data removed]",
            "text/plain": [
              "<Figure size 432x288 with 1 Axes>"
            ]
          },
          "metadata": {
            "tags": [],
            "needs_background": "light"
          }
        }
      ]
    }
  ]
}