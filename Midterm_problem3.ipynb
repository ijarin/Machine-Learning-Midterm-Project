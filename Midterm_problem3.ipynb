{
  "nbformat": 4,
  "nbformat_minor": 0,
  "metadata": {
    "colab": {
      "name": "Midterm_problem3.ipynb",
      "provenance": [],
      "collapsed_sections": []
    },
    "kernelspec": {
      "name": "python3",
      "display_name": "Python 3"
    }
  },
  "cells": [
    {
      "cell_type": "code",
      "metadata": {
        "id": "nHx2aDQxi5XM"
      },
      "source": [
        "#import all required files\n",
        "import numpy as np \n",
        "import matplotlib.pyplot as plt \n",
        "from matplotlib.patches import Rectangle \n",
        "import matplotlib.patches as patches"
      ],
      "execution_count": 1,
      "outputs": []
    },
    {
      "cell_type": "code",
      "metadata": {
        "id": "jYLP4Phc0ghq"
      },
      "source": [
        "#import 1000 random data over the box\n",
        "import random\n",
        "xdata=np.zeros(1000)\n",
        "ydata=np.zeros(1000)\n",
        "for i in range(1000):\n",
        "   xdata[i] = random.uniform(-2, 2)\n",
        "   ydata[i]=random.uniform(-2, 2)"
      ],
      "execution_count": 2,
      "outputs": []
    },
    {
      "cell_type": "code",
      "metadata": {
        "id": "A-qzS1E_3F56"
      },
      "source": [
        "def create_line(x1,x2,y1,y2):\n",
        "  m=(y2-y1)/(x2-x1)\n",
        "  c=y2-m*x2\n",
        "  return m,c\n"
      ],
      "execution_count": 3,
      "outputs": []
    },
    {
      "cell_type": "code",
      "metadata": {
        "id": "Y7W2XwbY45cx"
      },
      "source": [
        "xx=[-.6,1.5]      #take two random points from the box and draw a line\n",
        "yy=[-2,2]\n",
        "#xx=[random.uniform(-2, 2),random.uniform(-2, 2)]   #if anyone want to choose totally random values that could be erronous for the model\n",
        "#yy=[random.uniform(-2, 2),random.uniform(-2, 2)]\n",
        "m,c=create_line(xx[0],xx[1],yy[0],yy[1])\n"
      ],
      "execution_count": 4,
      "outputs": []
    },
    {
      "cell_type": "code",
      "metadata": {
        "id": "UY-5ow_8vpBD"
      },
      "source": [
        "#thresholding \n",
        "yt=np.zeros(1000)\n",
        "ythres=np.zeros(1000)\n",
        "truth_table=[]\n",
        "for i in range(1000):\n",
        "      ythres[i]=np.multiply(xdata[i],m)+c\n",
        "      if (ydata[i]<ythres[i]):\n",
        "        yt[i]=0\n",
        "      else:\n",
        "        yt[i]=1\n",
        "      truth_table.append([xdata[i],yt[i]])"
      ],
      "execution_count": 5,
      "outputs": []
    },
    {
      "cell_type": "code",
      "metadata": {
        "id": "n8KPL5Sp0se2"
      },
      "source": [
        "truth_table"
      ],
      "execution_count": null,
      "outputs": []
    },
    {
      "cell_type": "code",
      "metadata": {
        "id": "5_Z69zK47sMh",
        "outputId": "c1bb8e03-c5da-4b28-ca3a-c309c38983a8",
        "colab": {
          "base_uri": "https://localhost:8080/",
          "height": 265
        }
      },
      "source": [
        "fig, ax = plt.subplots()\n",
        "#fig=plt.figure()\n",
        "ax.plot(xdata,ydata,'r.')\n",
        "#ax.plot(xdata,ydata,'g.')\n",
        "ax.plot(xdata,yt,'b.')\n",
        "#ax.plot(xdata,y_pred,'b.')\n",
        "ax.plot(xx,yy,'black')\n",
        "ax.plot([-3,3],[-3,3],color='white')\n",
        "\n",
        "ax.add_patch(\n",
        "     patches.Rectangle(\n",
        "        (-2, -2),\n",
        "        4,\n",
        "        4,\n",
        "         fc ='none',\n",
        "        edgecolor = 'black',\n",
        "        facecolor = 'white',\n",
        "        fill=False\n",
        "     ) )\n",
        "\n",
        "ax.annotate('(2,2)',xy=(2,2))\n",
        "ax.annotate('(-2,-2)',xy=(-2.3,-2.3))\n",
        "plt.show()"
      ],
      "execution_count": 6,
      "outputs": [
        {
          "output_type": "display_data",
          "data": {
            "image/png": "[encoded data removed]",
            "text/plain": [
              "<Figure size 432x288 with 1 Axes>"
            ]
          },
          "metadata": {
            "tags": [],
            "needs_background": "light"
          }
        }
      ]
    },
    {
      "cell_type": "code",
      "metadata": {
        "id": "8eiKot69YDsZ",
        "outputId": "5bc09219-1ec8-4b17-cd2b-07e16ae3a4cb",
        "colab": {
          "base_uri": "https://localhost:8080/",
          "height": 35
        }
      },
      "source": [
        "#Pick the random weights (w0,w1,w2)\n",
        "import random\n",
        "w0=random.uniform(-1, 1)\n",
        "w1=random.uniform(-1, 1)\n",
        "#w2=random.uniform(-1, 1)\n",
        "w=np.array([w0,w1])\n",
        "print(w)"
      ],
      "execution_count": 7,
      "outputs": [
        {
          "output_type": "stream",
          "text": [
            "[ 0.98488374 -0.12199411]\n"
          ],
          "name": "stdout"
        }
      ]
    },
    {
      "cell_type": "code",
      "metadata": {
        "id": "F6OxtHTI3_lj"
      },
      "source": [
        "w_initial=[w0, w1]"
      ],
      "execution_count": 8,
      "outputs": []
    },
    {
      "cell_type": "code",
      "metadata": {
        "id": "bkMPB_LI4BKb"
      },
      "source": [
        "#calculate the slope 'm' and co-efficient 'c' of y=mx+c\n",
        "def points(X,W):\n",
        "  c=W[0]\n",
        "  m=W[1]\n",
        "  y=np.multiply(X,m)+c\n",
        "  return y"
      ],
      "execution_count": 9,
      "outputs": []
    },
    {
      "cell_type": "code",
      "metadata": {
        "id": "fMMAar-Z4Ego"
      },
      "source": [
        "#check the weights and find if it reach the expected output values\n",
        "def predict(row, weights):\n",
        "\tactivation = weights[0]\n",
        "\tfor i in range(len(row)-1):\n",
        "\t\tactivation += weights[i + 1] * row[i]\n",
        "\treturn 1.0 if activation >= 0.0 else 0.0"
      ],
      "execution_count": 10,
      "outputs": []
    },
    {
      "cell_type": "code",
      "metadata": {
        "id": "8uo-mpKw6-4j"
      },
      "source": [
        "#truth_table=list(truth_table)\n",
        "#truth_table\n"
      ],
      "execution_count": null,
      "outputs": []
    },
    {
      "cell_type": "code",
      "metadata": {
        "id": "55qq1V9N4TE8"
      },
      "source": [
        "#Check if initial weight values can predict the output\n",
        "for row in truth_table:\n",
        "  prediction=predict(row,w) #w=initial random weights (w0,w1,w2)\n",
        "  print(\"Expected=%d, Predicted=%d\" % (row[-1], prediction))\n",
        "  #e=row[-1]-prediction\n",
        "  #print(e)"
      ],
      "execution_count": null,
      "outputs": []
    },
    {
      "cell_type": "code",
      "metadata": {
        "id": "R5XMzWIRAQfz"
      },
      "source": [
        "# Estimate Perceptron weights  calculating epoch independently and converged\n",
        "def train_weights(train, l_rate, n_epoch,weights):\n",
        "\t#weights = [0.0 for i in range(len(train[0]))]\n",
        "\tfor epoch in range(n_epoch):\n",
        "\t\t#error=100\n",
        "\t\tsum_error = 0.0\n",
        "\t\tfor row in train:\n",
        "\t\t\tprediction = predict(row, weights)\n",
        "\t\t\terror = row[-1] - prediction\n",
        "\t\t\tsum_error += error**2\n",
        "\t\t\tweights[0] = weights[0] + l_rate * error\n",
        "\t\t\tfor i in range(len(row)-1):\n",
        "\t\t\t\tweights[i + 1] = weights[i + 1] + l_rate * error * row[i]\n",
        "\t#print('epoch=%d, lrate=%.3f, error=%.3f' % (epoch, l_rate, sum_error))\n",
        "\treturn weights, sum_error"
      ],
      "execution_count": 12,
      "outputs": []
    },
    {
      "cell_type": "code",
      "metadata": {
        "id": "Uj1bdBY3AWe4",
        "outputId": "ec749501-a0b8-4917-9bbe-c5dfa2987d42",
        "colab": {
          "base_uri": "https://localhost:8080/",
          "height": 35
        }
      },
      "source": [
        "#calculate the weights using Stochastic gradient descent using number of epoch=20\n",
        "l_rate = .5\n",
        "n_epoch = 500 #My all results were right within epoch=20, if needed please increase the number of epoch\n",
        "weights,error = train_weights(truth_table, l_rate, n_epoch,w)\n",
        "#print(weights)\n",
        "print('error value',error)"
      ],
      "execution_count": 13,
      "outputs": [
        {
          "output_type": "stream",
          "text": [
            "error value 156.0\n"
          ],
          "name": "stdout"
        }
      ]
    },
    {
      "cell_type": "code",
      "metadata": {
        "id": "Zwhi-FAtAwIT"
      },
      "source": [
        "#Check if calculated weight values can predict the output\n",
        "i=0\n",
        "y_pred=np.zeros(1000)\n",
        "for row in truth_table:\n",
        "  prediction=predict(row,weights)\n",
        "  y_pred[i]=prediction\n",
        "  i=i+1\n",
        "  #y_pred[i]=prediction #w=initial random weights (w0,w1,w2)\n",
        "  print(\"Expected=%d, Predicted=%d\" % (row[-1], prediction))\n",
        "  #e=row[-1]-prediction\n",
        "  #print(e)"
      ],
      "execution_count": null,
      "outputs": []
    },
    {
      "cell_type": "code",
      "metadata": {
        "id": "40LJDMlbEWFn",
        "outputId": "f60d49db-5c98-4c8d-e913-15fcb5fa03fd",
        "colab": {
          "base_uri": "https://localhost:8080/",
          "height": 284
        }
      },
      "source": [
        "#plt.plot(xdata,yt,'r.')\n",
        "plt.plot(xdata,y_pred,'r.',label='Prediction')\n",
        "plt.plot(xx,yy,color='black',linewidth=2,label='threshold line')\n",
        "plt.xlabel('Input x',fontsize=15)\n",
        "plt.ylabel('Predicted Value y',fontsize=15)\n",
        "plt.legend()\n",
        "plt.show()\n"
      ],
      "execution_count": 15,
      "outputs": [
        {
          "output_type": "display_data",
          "data": {
            "image/png": "[encoded data removed]",
            "text/plain": [
              "<Figure size 432x288 with 1 Axes>"
            ]
          },
          "metadata": {
            "tags": [],
            "needs_background": "light"
          }
        }
      ]
    }
  ]
}