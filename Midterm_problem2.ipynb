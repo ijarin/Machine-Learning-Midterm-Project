{
  "nbformat": 4,
  "nbformat_minor": 0,
  "metadata": {
    "colab": {
      "name": "Midterm_problem2.ipynb",
      "provenance": []
    },
    "kernelspec": {
      "name": "python3",
      "display_name": "Python 3"
    }
  },
  "cells": [
    {
      "cell_type": "code",
      "metadata": {
        "id": "flvYobcy0YgI"
      },
      "source": [
        "#call all the required library \n",
        "import numpy as np\n",
        "import matplotlib.pyplot as plt\n",
        "import math\n",
        "import random"
      ],
      "execution_count": 1,
      "outputs": []
    },
    {
      "cell_type": "code",
      "metadata": {
        "id": "TmEqLGKE0kYn"
      },
      "source": [
        "#calculate the Mth order Matrix \n",
        "def calc_matrix(x,m):\n",
        "  n=len(x)\n",
        "  #m=3\n",
        "  A=np.zeros((n,m+1))\n",
        "  for i in range(m+1):\n",
        "      A[:,i]=x**i\n",
        "      #A[:,1]=x\n",
        "      #A[:,2]=np.square(x)\n",
        "      #A[:,3]=x**3\n",
        "  \n",
        "  return A"
      ],
      "execution_count": 2,
      "outputs": []
    },
    {
      "cell_type": "code",
      "metadata": {
        "id": "V1OW1Vjs09i5"
      },
      "source": [
        "#calculate the weight parameters using linear regression \n",
        "def calc_w(A,bt):\n",
        "  #calculate w\n",
        "  a1=np.dot(np.transpose(A),A)\n",
        "  a1_inv=np.linalg.inv(a1)\n",
        "#a1_inv.shape\n",
        "  a2=np.dot(a1_inv,np.transpose(A))\n",
        "  a3=np.dot(a2,bt)\n",
        "  w=a3\n",
        "  return w"
      ],
      "execution_count": 3,
      "outputs": []
    },
    {
      "cell_type": "code",
      "metadata": {
        "id": "MFMBO5ixIsNx"
      },
      "source": [
        "#calculate weight vector for regularization\n",
        "def calc_wreg(x_train,y_train,l):\n",
        "  a1=np.dot(np.transpose(x_train),x_train)\n",
        "  a1_inv=np.linalg.inv(a1)\n",
        "  a2=np.dot(a1_inv,np.transpose(x_train))\n",
        "  I=np.identity(len(a2))\n",
        "  I_l=np.multiply(I,l)\n",
        "  a2=a1+I_l\n",
        "  a2_inv=np.linalg.inv(a2)\n",
        "  a3=np.dot(a2_inv,np.transpose(x_train))\n",
        "  wreg=np.dot(a3,y_train)\n",
        "  yt=np.dot(x_train,wreg)\n",
        "  return wreg"
      ],
      "execution_count": 4,
      "outputs": []
    },
    {
      "cell_type": "code",
      "metadata": {
        "id": "_TrwetmE1FEg"
      },
      "source": [
        "#calculate Eout\n",
        "def calc_error(y_actual,xtest,wt):\n",
        "  m=len(y_actual)\n",
        "  #print(m)\n",
        "  y_pred=np.dot(xtest,wt)\n",
        "  e=sum(y_actual-y_pred)**2\n",
        "  error=(np.sqrt(e))*(1/(2*m))\n",
        "  return error\n",
        "  #float(5)/float(10)"
      ],
      "execution_count": 5,
      "outputs": []
    },
    {
      "cell_type": "code",
      "metadata": {
        "id": "wp9ZkJMJLQjT"
      },
      "source": [
        "#calculate Eout\n",
        "#def calc_error(y_actual,xtest,wt):\n",
        " # m=len(y_actual)\n",
        "  #print(m)\n",
        " # y_pred=np.dot(xtest,wt)\n",
        " # score = float(sum(abs(y_pred-y_actual)))/ float(len(y_actual))\n",
        " # error=1-score\n",
        " # return error*100"
      ],
      "execution_count": null,
      "outputs": []
    },
    {
      "cell_type": "code",
      "metadata": {
        "id": "KJ-0wxSt1mH7"
      },
      "source": [
        "#calculate the clean observation without noise and plot the data \n",
        "def calc_data(delta):\n",
        "  #delta=.01\n",
        "  x=np.arange(-.5,.50001,delta)\n",
        "  n=len(x)\n",
        "  pii=math.pi\n",
        "#if initial data was noiseless\n",
        "  b_clean=np.sin(2*pii*x)\n",
        "  return b_clean,x,n"
      ],
      "execution_count": 6,
      "outputs": []
    },
    {
      "cell_type": "code",
      "metadata": {
        "id": "V2nuP6D6cx7V"
      },
      "source": [
        "#calculate the noisy observation \n",
        "def calc_noisy_data(b_clean,x,n):\n",
        "  #now there are noisy initial data\n",
        "  b0=b_clean-.1\n",
        "  randomList = []\n",
        "# Set a length of the list to 10\n",
        "  for i in range(0, n):\n",
        "    # any random numbers from 0 to 1000\n",
        "      randomList.append((random.randint(-50, 50))/100)\n",
        "  randn=np.array(randomList)\n",
        "\n",
        "#generate b\n",
        "  b=b0+.2*randn\n",
        "  return b"
      ],
      "execution_count": 7,
      "outputs": []
    },
    {
      "cell_type": "code",
      "metadata": {
        "id": "8lpvbEpk16fl"
      },
      "source": [
        "#calculate E_avg matrix of 2nd order for n experiments\n",
        "def calc_Eoutavg(exp_n,delta,x,b_clean,n):\n",
        "  E_out2=np.zeros(exp_n)\n",
        "  for i in range(exp_n):\n",
        "    #b,x=calc_data(delta)\n",
        "    A2=calc_matrix(x,2)\n",
        "    #calculate different noisy observation for every step\n",
        "    b=calc_noisy_data(b_clean,x,n)\n",
        "\n",
        "#split the data into 80/20 (Training/Test Sets)\n",
        "    from sklearn.model_selection import train_test_split\n",
        "    X_train2, X_test2, y_train, y_test = train_test_split(A2, b, test_size=0.2, random_state=10)\n",
        "\n",
        "    wt2=calc_w(X_train2,y_train)\n",
        "#calculate y when m=2\n",
        "    y2=np.dot(X_train2,wt2)\n",
        "    E_out2[i]=calc_error(y_test,X_test2,wt2)\n",
        "  #calculate average E_out\n",
        "  E_out2_avg=np.average(E_out2)\n",
        "  #print(E_out2)\n",
        "  return E_out2_avg\n",
        "#y3\n"
      ],
      "execution_count": 8,
      "outputs": []
    },
    {
      "cell_type": "code",
      "metadata": {
        "id": "tlwX4D9O9RCH"
      },
      "source": [
        "#assign values to required variables\n",
        "delta=[.1,.01,.005,.001,.0005]\n",
        "k=len(delta)\n",
        "N=np.zeros(k)\n",
        "exp_no=30  \n",
        "color=['r','green','blue','orange','black']   "
      ],
      "execution_count": 9,
      "outputs": []
    },
    {
      "cell_type": "code",
      "metadata": {
        "id": "WtSmrrAKePuo"
      },
      "source": [
        "#plot the clean input and output\n",
        "def plot_ob(x,y,delta,color):\n",
        "  #Plot clean input and observation\n",
        "  plt.plot(x,y,color=color,label='delta='+str(delta),linewidth=1)  \n",
        "  #plt.title('Observed value for inpu')\n",
        "  plt.xlim([-.6,.6])\n",
        "  plt.xlabel('Input X',fontsize='15')\n",
        "  plt.ylabel('Clean Observation b (sin(2*pi*x)',fontsize='15')\n",
        "  plt.legend(fontsize=10)"
      ],
      "execution_count": 10,
      "outputs": []
    },
    {
      "cell_type": "code",
      "metadata": {
        "id": "RIoW-JM22VV3",
        "outputId": "4387dcd5-ab71-4142-d010-28b2e4de7241",
        "colab": {
          "base_uri": "https://localhost:8080/",
          "height": 335
        }
      },
      "source": [
        "E2_out_avg=np.zeros(k)      #number of experiment\n",
        "for j in range(k):\n",
        "  b2,x2,N[j]=calc_data(delta[j])\n",
        "  plot_ob(x2,b2,delta[j],color[j])\n",
        "  E2_out_avg[j]=calc_Eoutavg(exp_no,delta[j],x2,b2,int(N[j]))\n",
        "print(N)\n",
        "E2_out_avg\n"
      ],
      "execution_count": 11,
      "outputs": [
        {
          "output_type": "stream",
          "text": [
            "[  11.  101.  201. 1001. 2001.]\n"
          ],
          "name": "stdout"
        },
        {
          "output_type": "execute_result",
          "data": {
            "text/plain": [
              "array([0.12676848, 0.06752232, 0.01135241, 0.00252309, 0.00182501])"
            ]
          },
          "metadata": {
            "tags": []
          },
          "execution_count": 11
        },
        {
          "output_type": "display_data",
          "data": {
            "image/png": "[encoded data removed]",
            "text/plain": [
              "<Figure size 432x288 with 1 Axes>"
            ]
          },
          "metadata": {
            "tags": [],
            "needs_background": "light"
          }
        }
      ]
    },
    {
      "cell_type": "code",
      "metadata": {
        "id": "vHGFCSX35Vsg"
      },
      "source": [
        "#calculate E_avg matrix of 10th order for n experiments\n",
        "def calc_Eoutavg10(exp_n,delta,x,b_clean,n):\n",
        "  E_out10=np.zeros(exp_n)\n",
        "  for i in range(exp_n):\n",
        "    #b,x=calc_data(delta)\n",
        "    A10=calc_matrix(x,10)\n",
        "    #calculate different noisy observation for every step\n",
        "    b=calc_noisy_data(b_clean,x,n)\n",
        "\n",
        "#split the data into 80/20 (Training/Test Sets)\n",
        "    from sklearn.model_selection import train_test_split\n",
        "    X_train10, X_test10, y_train, y_test = train_test_split(A10, b, test_size=0.2, random_state=10)\n",
        "\n",
        "    wt10=calc_w(X_train10,y_train)\n",
        "#calculate y when m=2\n",
        "    y10=np.dot(X_train10,wt10)\n",
        "    E_out10[i]=calc_error(y_test,X_test10,wt10)\n",
        "  #calculate average E_out\n",
        "  E_out10_avg=np.average(E_out10)\n",
        "  #print(E_out2)\n",
        "  return E_out10_avg\n",
        "\n"
      ],
      "execution_count": 12,
      "outputs": []
    },
    {
      "cell_type": "code",
      "metadata": {
        "id": "366zXUQh6F2s",
        "outputId": "ebdaf78a-e128-4391-feb3-edbf69241d0f",
        "colab": {
          "base_uri": "https://localhost:8080/",
          "height": 335
        }
      },
      "source": [
        "E10_out_avg=np.zeros(k)\n",
        "for j in range(k):\n",
        "  b10,x10,N[j]=calc_data(delta[j])\n",
        "  plot_ob(x10,b10,delta[j],color[j])\n",
        "  E10_out_avg[j]=calc_Eoutavg10(exp_no,delta[j],x10,b10,int(N[j]))\n",
        "print(N)\n",
        "E10_out_avg"
      ],
      "execution_count": 13,
      "outputs": [
        {
          "output_type": "stream",
          "text": [
            "[  11.  101.  201. 1001. 2001.]\n"
          ],
          "name": "stdout"
        },
        {
          "output_type": "execute_result",
          "data": {
            "text/plain": [
              "array([0.05874218, 0.00600344, 0.00418365, 0.00198299, 0.00157441])"
            ]
          },
          "metadata": {
            "tags": []
          },
          "execution_count": 13
        },
        {
          "output_type": "display_data",
          "data": {
            "image/png": "[encoded data removed]",
            "text/plain": [
              "<Figure size 432x288 with 1 Axes>"
            ]
          },
          "metadata": {
            "tags": [],
            "needs_background": "light"
          }
        }
      ]
    },
    {
      "cell_type": "code",
      "metadata": {
        "id": "ZyY0jVUR9sw3",
        "outputId": "4c9aae34-9bc9-4c8c-d78f-b8c5934ea1ea",
        "colab": {
          "base_uri": "https://localhost:8080/",
          "height": 302
        }
      },
      "source": [
        "plt.plot(N,E2_out_avg*100,color='red',marker='o',label='E_out_2nd_order ',linewidth=2) \n",
        "plt.plot( N,E10_out_avg*100,color='green',marker='o',label='E_out_10th_order',linewidth=1.5)  \n",
        "#plt.plot(x, y2,'r.',label='Prediction when m=2',linewidth=2) \n",
        "#plt.plot(x, y10,'r.',label='Prediction when m=10',linewidth=2) \n",
        "#plt.plot(x1, y_taylor,linestyle='--', marker='.',color='red',label='Taylor Series Calculation when m=3',linewidth=1)\n",
        "plt.xlabel('N',fontsize='15')\n",
        "plt.ylabel('E_out(y)',fontsize='15')\n",
        "plt.legend()"
      ],
      "execution_count": 14,
      "outputs": [
        {
          "output_type": "execute_result",
          "data": {
            "text/plain": [
              "<matplotlib.legend.Legend at 0x7fb47e997ef0>"
            ]
          },
          "metadata": {
            "tags": []
          },
          "execution_count": 14
        },
        {
          "output_type": "display_data",
          "data": {
            "image/png": "[encoded data removed]",
            "text/plain": [
              "<Figure size 432x288 with 1 Axes>"
            ]
          },
          "metadata": {
            "tags": [],
            "needs_background": "light"
          }
        }
      ]
    }
  ]
}